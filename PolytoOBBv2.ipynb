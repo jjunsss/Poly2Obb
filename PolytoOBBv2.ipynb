{
 "cells": [
  {
   "cell_type": "code",
   "execution_count": 7,
   "metadata": {},
   "outputs": [],
   "source": [
    "import numpy as np\n",
    "import matplotlib.pyplot as plt\n",
    "import cv2"
   ]
  },
  {
   "cell_type": "markdown",
   "metadata": {},
   "source": [
    "### 데이터 불러오기\n",
    "+ segm : Polygon dataset\n",
    "+ bbox : roboflow data\n",
    "+ custom : custom OBB\n",
    "+ check : edge roboflow data"
   ]
  },
  {
   "cell_type": "code",
   "execution_count": 8,
   "metadata": {},
   "outputs": [],
   "source": [
    "segm = [[51.928646, 186.450359, 112.978734, 211.914583, 110.538559, 218.891083, 105.65821, 227.960532, 100.777861, 241.564706, 90.668566, 261.447731, 113.32733, 269.470706, \n",
    "             112.281541, 279.237805, 118.20768, 289.004905, 123.785222, 295.283755, 131.802938, 302.260255, 147.838372, 313.771479, 169.451347, 322.840928, 193.573079, 327.375653,\n",
    "             223.900965, 360.862852, 227.038332, 316.213254, 246.908326, 316.213254, 258.412006, 306.097329, 266.429723, 277.493681, 282.185142, 282.726055, 316.347587, 299.818479,\n",
    "             337.611965, 295.981405, 344.93249, 290.05138, 368.98564, 234.937032, 370.728622, 218.193432, 362.013712, 203.193958, 296.409011, 176.334434, 296.409011, 169.70676,\n",
    "             284.90533, 152.96316, 263.640951, 134.824261, 237.844819, 124.010687, 250.742885, 84.244639, 257.366216, 82.500513, 262.943759, 75.872838, 259.109199, 68.547514, 250.394289,\n",
    "             67.152214, 244.816747, 70.640464, 244.468151, 77.965789, 248.302711, 83.198164, 231.501502, 120.522437, 225.226768, 118.778312, 208.842738, 114.243587, 182.69801, 114.592412,\n",
    "             169.451347, 116.685362, 163.873805, 122.964211, 97.291897, 95.407038, 83.696638, 97.848813, 75.955197, 102.320674, 48.220037, 169.642102, 48.442682, 170.753234, 49.139875, 175.287959, 51.928646, 186.450359]]\n",
    "\n",
    "bbox = [[397.7931585355291, 249.98800709357198, 198.38277118834594, 402.38352714729336, 8.472510585936107, 153.89322672273258, 207.8673843042452, 1.50683881274531,397.7931585355291, 249.98800709357198]]\n",
    "custom = [[ 5.207794, 152.4859, 207.6282, 0. ,400.04324,  250.24112 ,197.62283 ,  404.68036 ]]\n",
    "\n",
    "check = [[416.0041335048627, 416, 288.6449620411622, 416, 288.64770386258533, 335.496211, 416, 335.49621100000013]]"
   ]
  },
  {
   "cell_type": "code",
   "execution_count": 9,
   "metadata": {},
   "outputs": [],
   "source": [
    "# 이어져 있는 값 분할-> ( x , y )\n",
    "x = []\n",
    "y = []\n",
    "a = []\n",
    "b = []\n",
    "x2 = []\n",
    "y2 = []\n",
    "a2 = []\n",
    "b2 = []\n",
    "\n",
    "for i, s in enumerate(segm):\n",
    "    x += s[0::2]\n",
    "    y += s[1::2]\n",
    "\n",
    "for i, s in enumerate(bbox):\n",
    "    a += s[0::2]\n",
    "    b += s[1::2]\n",
    "\n",
    "for i, s in enumerate(custom):\n",
    "    x2 += s[0::2]\n",
    "    y2 += s[1::2]\n",
    "\n",
    "for i, s in enumerate(check):\n",
    "    a2 += s[0::2]\n",
    "    b2 += s[1::2]"
   ]
  },
  {
   "cell_type": "code",
   "execution_count": 10,
   "metadata": {},
   "outputs": [],
   "source": [
    "#원본 이미지 호출 및 Shape 확인\n",
    "img = cv2.imread('test.v1i.yolov5-obb/train/images/pngwing-com_png.rf.37f72b2fa3405022584621ce67e5ce12.jpg', cv2.IMREAD_COLOR)\n",
    "img_size = img.shape[:2]\n"
   ]
  },
  {
   "cell_type": "code",
   "execution_count": 11,
   "metadata": {},
   "outputs": [],
   "source": [
    "#draw a line Polygon data\n",
    "poly_img = np.full_like(img, 255)\n",
    "for i in range(len(x)):\n",
    "    if i+1 !=  len(x):\n",
    "        cv2.line(poly_img, (int(x[i]), int(y[i])), (int(x[i+1]), int(y[i+1])), (255, 0, 0), 2)\n",
    "        continue\n",
    "    \n",
    "    cv2.line(poly_img, (int(x[i]), int(y[i])), (int(x[0]), int(y[0])), (255, 0, 0), 2)\n",
    "    \n",
    "#draw a line roboflop obb  data\n",
    "poly_img1 = np.full_like(img, 255)\n",
    "for i in range(len(x2)):\n",
    "    if i+1 !=  len(x2):\n",
    "        cv2.line(poly_img1, (int(x2[i]), int(y2[i])), (int(x2[i+1]), int(y2[i+1])), (255, 0, 0), 2)\n",
    "        continue\n",
    "    \n",
    "    cv2.line(poly_img1, (int(x2[i]), int(y2[i])), (int(x2[0]), int(y2[0])), (255, 0, 0), 2)\n",
    "    \n",
    "#draw a line check(edge) data\n",
    "poly_img2 = np.full_like(img, 255)\n",
    "for i in range(len(a)):\n",
    "    if i+1 !=  len(a):\n",
    "        cv2.line(poly_img2, (int(a[i]), int(b[i])), (int(a[i+1]), int(b[i+1])), (255, 0, 0), 2)\n",
    "        continue\n",
    "    \n",
    "    cv2.line(poly_img2, (int(a[i]), int(b[i])), (int(a[0]), int(b[0])), (255, 0, 0), 2)\n",
    "    \n",
    "#draw a roboflow obb (edge) data\n",
    "poly_img3 = np.full_like(img, 255)\n",
    "for i in range(len(a2)):\n",
    "    if i+1 !=  len(a2):\n",
    "        cv2.line(poly_img3, (int(a2[i]), int(b2[i])), (int(a2[i+1]), int(b2[i+1])), (255, 0, 0), 2)\n",
    "        continue\n",
    "    \n",
    "    cv2.line(poly_img3, (int(a2[i]), int(b2[i])), (int(a2[0]), int(b2[0])), (255, 0, 0), 2)\n",
    "    \n"
   ]
  },
  {
   "cell_type": "code",
   "execution_count": 6,
   "metadata": {},
   "outputs": [],
   "source": [
    "cv2.imshow('poly_img', poly_img) #original roboflow-polygon\n",
    "cv2.imshow('robo obb', poly_img1) #roboflow-obb\n",
    "cv2.imshow('cusotm obb', poly_img2) #custome polygon2obb\n",
    "cv2.imshow('robo edge obb', poly_img3) #Segmentation Polygon with edge position.\n",
    "cv2.waitKey(0)\n",
    "cv2.destroyAllWindows()"
   ]
  },
  {
   "cell_type": "code",
   "execution_count": 12,
   "metadata": {},
   "outputs": [
    {
     "name": "stdout",
     "output_type": "stream",
     "text": [
      "False\n"
     ]
    }
   ],
   "source": [
    "#이미지가 Contour해야 사용할 수 있음.\n",
    "#확인을 위해 Gray Color 변경 후 경계값 표시\n",
    "img_copy = poly_img.copy() #ploy_img자체가 GRAY임.\n",
    "\n",
    "img_gray = cv2.cvtColor(poly_img, cv2.COLOR_RGB2GRAY)\n",
    "\n",
    "_, thr = cv2.threshold(img_gray, 127, 255, 0) #threshold 생성\n",
    "contour, _ = cv2.findContours(thr, cv2.RETR_TREE, cv2.CHAIN_APPROX_SIMPLE)\n",
    "counter = contour[1]\n",
    "\n",
    "x = cv2.drawContours(poly_img, [counter], 0, (0, 0, 255), 1)\n",
    "\n",
    "check = cv2.isContourConvex(counter)\n",
    "print(check)\n"
   ]
  },
  {
   "cell_type": "code",
   "execution_count": 13,
   "metadata": {},
   "outputs": [],
   "source": [
    "#Convex하지 않다면, Convexhull을 사용해서 오목하지 않은 line을 하나 새로 생성.\n",
    "if not check:\n",
    "    hull = cv2.convexHull(counter)\n",
    "    cv2.drawContours(img_gray, [hull], 0, (0, 255, 0), 1)\n",
    "\n",
    "cv2.imshow('convex hull', img_gray)\n",
    "cv2.imshow('contour', poly_img)\n",
    "cv2.waitKey(0)\n",
    "cv2.destroyAllWindows()"
   ]
  },
  {
   "cell_type": "code",
   "execution_count": 14,
   "metadata": {},
   "outputs": [
    {
     "name": "stdout",
     "output_type": "stream",
     "text": [
      "box params : \n",
      " [[  5.207794 152.4859  ]\n",
      " [207.6282     0.      ]\n",
      " [400.04324  250.24112 ]\n",
      " [197.62283  404.68036 ]]\n"
     ]
    }
   ],
   "source": [
    "#Convex하게 만들어진 Point들을 전부 포함할 수 있는 Rect를 생성.\n",
    "#최종적으로 내가 만들어야 할 Oriented Bounding Box를 만들어 그에 해당하는 좌표를 가져 옴.\n",
    "rect = cv2.minAreaRect(counter)\n",
    "box = cv2.boxPoints(rect)\n",
    "box[:, 0] = np.clip(box[:, 0], 0, img_size[1]) #box : x , img size : H W C\n",
    "box[:, 1] = np.clip(box[:, 1], 0, img_size[0])\n",
    "print(\"box params : \\n\", box)\n",
    "box = np.int0(abs(box))\n",
    "cv2.drawContours(poly_img, [box], 0, (0, 255, 0), 1)\n",
    "\n",
    "cv2.imshow('poly with rect', poly_img)\n",
    "cv2.waitKey(0)\n",
    "cv2.destroyAllWindows()"
   ]
  },
  {
   "cell_type": "code",
   "execution_count": null,
   "metadata": {},
   "outputs": [],
   "source": []
  }
 ],
 "metadata": {
  "interpreter": {
   "hash": "e0144baad0ecee903f108a3e46e51ceadd7da3fc904cfa79747d813b61464b4e"
  },
  "kernelspec": {
   "display_name": "Python 3.8.8rc1 64-bit",
   "language": "python",
   "name": "python3"
  },
  "language_info": {
   "codemirror_mode": {
    "name": "ipython",
    "version": 3
   },
   "file_extension": ".py",
   "mimetype": "text/x-python",
   "name": "python",
   "nbconvert_exporter": "python",
   "pygments_lexer": "ipython3",
   "version": "3.8.8rc1"
  },
  "orig_nbformat": 4
 },
 "nbformat": 4,
 "nbformat_minor": 2
}
